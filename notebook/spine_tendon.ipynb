{
 "cells": [
  {
   "cell_type": "code",
   "execution_count": 1,
   "metadata": {},
   "outputs": [],
   "source": [
    "import numpy as np\n",
    "import sympy\n",
    "from IPython.display import display\n",
    "\n",
    "from kdl_sympy.frames import Vector, Frame\n",
    "\n",
    "sympy.init_printing()"
   ]
  },
  {
   "cell_type": "code",
   "execution_count": 2,
   "metadata": {},
   "outputs": [],
   "source": [
    "# 変数\n",
    "\n",
    "n = sympy.symbols('n')  # ユニバーサルジョイントの個数(= 5)\n",
    "a, b, c, d = sympy.symbols('a, b, c d')  # (a, b, c) = (19, 29, 27, 30)mm\n",
    "pitch, yaw = sympy.symbols(r'\\theta, \\psi')  # ユニバーサルジョイントの回転角"
   ]
  },
  {
   "cell_type": "code",
   "execution_count": 3,
   "metadata": {},
   "outputs": [
    {
     "data": {
      "image/png": "[encoded data removed]",
      "text/latex": [
       "$\\displaystyle n \\sqrt{\\left|{a \\sin{\\left(\\psi \\right)} + b \\cos{\\left(\\psi \\right)} - b}\\right|^{2} + \\left|{a \\sin{\\left(\\theta \\right)} \\cos{\\left(\\psi \\right)} - b \\sin{\\left(\\psi \\right)} \\sin{\\left(\\theta \\right)} - c \\cos{\\left(\\theta \\right)} + c}\\right|^{2} + \\left|{a \\cos{\\left(\\psi \\right)} \\cos{\\left(\\theta \\right)} + a - b \\sin{\\left(\\psi \\right)} \\cos{\\left(\\theta \\right)} + c \\sin{\\left(\\theta \\right)}}\\right|^{2}}$"
      ],
      "text/plain": [
       "     _________________________________________________________________________\n",
       "    ╱                                2                                        \n",
       "n⋅╲╱  │a⋅sin(\\psi) + b⋅cos(\\psi) - b│  + │a⋅sin(\\theta)⋅cos(\\psi) - b⋅sin(\\psi\n",
       "\n",
       "______________________________________________________________________________\n",
       "                                  2                                           \n",
       ")⋅sin(\\theta) - c⋅cos(\\theta) + c│  + │a⋅cos(\\psi)⋅cos(\\theta) + a - b⋅sin(\\ps\n",
       "\n",
       "_________________________________\n",
       "                               2 \n",
       "i)⋅cos(\\theta) + c⋅sin(\\theta)│  "
      ]
     },
     "metadata": {},
     "output_type": "display_data"
    },
    {
     "data": {
      "image/png": "[encoded data removed]",
      "text/latex": [
       "$\\displaystyle 184.326864560889$"
      ],
      "text/plain": [
       "184.326864560889"
      ]
     },
     "metadata": {},
     "output_type": "display_data"
    }
   ],
   "source": [
    "# 左肩のワイヤー\n",
    "\n",
    "T_12 = Frame.Trans(Vector(a, -b, -c))\n",
    "T_23 = Frame.RotY(pitch)\n",
    "T_34 = Frame.RotZ(yaw)\n",
    "T_45 = Frame.Trans(Vector(a, b, c))\n",
    "\n",
    "T = T_12 * T_23 * T_34 * T_45  # 2つのワイヤ穴間の同次変換\n",
    "length = T.p.norm() * n\n",
    "\n",
    "display(sympy.simplify(length))\n",
    "display(length.subs([(n, 5), (a, 19), (b, 29), (c, 27), (pitch, np.deg2rad(15)), (yaw, np.deg2rad(15))]))"
   ]
  },
  {
   "cell_type": "code",
   "execution_count": 4,
   "metadata": {},
   "outputs": [
    {
     "data": {
      "image/png": "[encoded data removed]",
      "text/latex": [
       "$\\displaystyle n \\sqrt{\\left|{a \\sin{\\left(\\psi \\right)} - b \\cos{\\left(\\psi \\right)} + b}\\right|^{2} + \\left|{a \\sin{\\left(\\theta \\right)} \\cos{\\left(\\psi \\right)} + b \\sin{\\left(\\psi \\right)} \\sin{\\left(\\theta \\right)} - c \\cos{\\left(\\theta \\right)} + c}\\right|^{2} + \\left|{a \\cos{\\left(\\psi \\right)} \\cos{\\left(\\theta \\right)} + a + b \\sin{\\left(\\psi \\right)} \\cos{\\left(\\theta \\right)} + c \\sin{\\left(\\theta \\right)}}\\right|^{2}}$"
      ],
      "text/plain": [
       "     _________________________________________________________________________\n",
       "    ╱                                2                                        \n",
       "n⋅╲╱  │a⋅sin(\\psi) - b⋅cos(\\psi) + b│  + │a⋅sin(\\theta)⋅cos(\\psi) + b⋅sin(\\psi\n",
       "\n",
       "______________________________________________________________________________\n",
       "                                  2                                           \n",
       ")⋅sin(\\theta) - c⋅cos(\\theta) + c│  + │a⋅cos(\\psi)⋅cos(\\theta) + a + b⋅sin(\\ps\n",
       "\n",
       "_________________________________\n",
       "                               2 \n",
       "i)⋅cos(\\theta) + c⋅sin(\\theta)│  "
      ]
     },
     "metadata": {},
     "output_type": "display_data"
    },
    {
     "data": {
      "image/png": "[encoded data removed]",
      "text/latex": [
       "$\\displaystyle 184.326864560889$"
      ],
      "text/plain": [
       "184.326864560889"
      ]
     },
     "metadata": {},
     "output_type": "display_data"
    }
   ],
   "source": [
    "# 右肩のワイヤー\n",
    "\n",
    "T_12 = Frame.Trans(Vector(a, b, -c))\n",
    "T_23 = Frame.RotY(pitch)\n",
    "T_34 = Frame.RotZ(yaw)\n",
    "T_45 = Frame.Trans(Vector(a, -b, c))\n",
    "\n",
    "T = T_12 * T_23 * T_34 * T_45  # 2つのワイヤ穴間の同次変換\n",
    "length = T.p.norm() * n\n",
    "\n",
    "display(sympy.simplify(length))\n",
    "display(length.subs([(n, 5), (a, 19), (b, 29), (c, 27), (pitch, np.deg2rad(15)), (yaw, np.deg2rad(-15))]))"
   ]
  },
  {
   "cell_type": "code",
   "execution_count": 5,
   "metadata": {},
   "outputs": [
    {
     "data": {
      "image/png": "[encoded data removed]",
      "text/latex": [
       "$\\displaystyle n \\sqrt{\\left|{a \\sin{\\left(\\psi \\right)}}\\right|^{2} + \\left|{a \\sin{\\left(\\theta \\right)} \\cos{\\left(\\psi \\right)} + d \\cos{\\left(\\theta \\right)} - d}\\right|^{2} + \\left|{a \\cos{\\left(\\psi \\right)} \\cos{\\left(\\theta \\right)} + a - d \\sin{\\left(\\theta \\right)}}\\right|^{2}}$"
      ],
      "text/plain": [
       "     _________________________________________________________________________\n",
       "    ╱              2                                                2         \n",
       "n⋅╲╱  │a⋅sin(\\psi)│  + │a⋅sin(\\theta)⋅cos(\\psi) + d⋅cos(\\theta) - d│  + │a⋅cos\n",
       "\n",
       "_________________________________________\n",
       "                                       2 \n",
       "(\\psi)⋅cos(\\theta) + a - d⋅sin(\\theta)│  "
      ]
     },
     "metadata": {},
     "output_type": "display_data"
    },
    {
     "data": {
      "image/png": "[encoded data removed]",
      "text/latex": [
       "$\\displaystyle 148.06375079919$"
      ],
      "text/plain": [
       "148.063750799190"
      ]
     },
     "metadata": {},
     "output_type": "display_data"
    }
   ],
   "source": [
    "# 下のワイヤー\n",
    "\n",
    "T_12 = Frame.Trans(Vector(a, 0, d))\n",
    "T_23 = Frame.RotY(pitch)\n",
    "T_34 = Frame.RotZ(yaw)\n",
    "T_45 = Frame.Trans(Vector(a, 0, -d))\n",
    "\n",
    "T = T_12 * T_23 * T_34 * T_45  # 2つのワイヤ穴間の同次変換\n",
    "length = T.p.norm() * n\n",
    "\n",
    "display(sympy.simplify(length))\n",
    "display(length.subs([(n, 5), (a, 19), (d, 30), (pitch, np.deg2rad(15)), (yaw, np.deg2rad(15))]))"
   ]
  }
 ],
 "metadata": {
  "kernelspec": {
   "display_name": "Python 3",
   "language": "python",
   "name": "python3"
  },
  "language_info": {
   "codemirror_mode": {
    "name": "ipython",
    "version": 3
   },
   "file_extension": ".py",
   "mimetype": "text/x-python",
   "name": "python",
   "nbconvert_exporter": "python",
   "pygments_lexer": "ipython3",
   "version": "3.8.10"
  },
  "orig_nbformat": 4,
  "vscode": {
   "interpreter": {
    "hash": "916dbcbb3f70747c44a77c7bcd40155683ae19c65e1c03b4aa3499c5328201f1"
   }
  }
 },
 "nbformat": 4,
 "nbformat_minor": 2
}
